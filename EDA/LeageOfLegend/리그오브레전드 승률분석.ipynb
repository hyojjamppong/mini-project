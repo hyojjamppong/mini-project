{
 "cells": [
  {
   "cell_type": "code",
   "execution_count": 52,
   "id": "5aaa695b",
   "metadata": {},
   "outputs": [],
   "source": [
    "import pandas as pd\n",
    "from pandas.io.json import json_normalize \n",
    "import requests\n",
    "import json\n",
    "import numpy as np\n",
    "import time\n",
    "import seaborn as sns\n",
    "import matplotlib.pyplot as plt\n",
    "import matplotlib as mlp"
   ]
  },
  {
   "cell_type": "markdown",
   "id": "c6e69269",
   "metadata": {},
   "source": [
    "## 소환사의 정보 불러오기"
   ]
  },
  {
   "cell_type": "code",
   "execution_count": 58,
   "id": "47978184",
   "metadata": {},
   "outputs": [
    {
     "name": "stdout",
     "output_type": "stream",
     "text": [
      "알고 싶은 소환사의 아이디를 입력해주세요: hide on bush\n"
     ]
    },
    {
     "data": {
      "text/plain": [
       "[{'leagueId': '05fb99f4-e149-3133-a78e-821597582f9d',\n",
       "  'queueType': 'RANKED_SOLO_5x5',\n",
       "  'tier': 'CHALLENGER',\n",
       "  'rank': 'I',\n",
       "  'summonerId': 'dxw0ItebPX13iF9iQj--WdQrIQ-45jE2mCkdtsdiUwV6xA',\n",
       "  'summonerName': 'Hide on bush',\n",
       "  'leaguePoints': 934,\n",
       "  'wins': 321,\n",
       "  'losses': 280,\n",
       "  'veteran': True,\n",
       "  'inactive': False,\n",
       "  'freshBlood': False,\n",
       "  'hotStreak': False}]"
      ]
     },
     "execution_count": 58,
     "metadata": {},
     "output_type": "execute_result"
    }
   ],
   "source": [
    "api_key = \"RGAPI-a1a815b6-8436-4d1f-b12f-67afccffc445\"\n",
    "user_name = input(\"알고 싶은 소환사의 아이디를 입력해주세요: \")\n",
    "user_url = f\"https://kr.api.riotgames.com/lol/summoner/v4/summoners/by-name/{user_name}?api_key={api_key}\"\n",
    "\n",
    "r = requests.get(user_url)\n",
    "r.json()['id'] #소환사의 고유 id\n",
    "\n",
    "tier_url = \"https://kr.api.riotgames.com/lol/league/v4/entries/by-summoner/\" + r.json()['id'] +'?api_key=' + api_key\n",
    "r2 = requests.get(tier_url)\n",
    "r2.json()"
   ]
  },
  {
   "cell_type": "markdown",
   "id": "45fe32da",
   "metadata": {},
   "source": [
    "## 챔피언 정보 불러오기\n",
    "https://www.kaggle.com/code/gyejr95/how-to-use-item-champion-riot-api"
   ]
  },
  {
   "cell_type": "code",
   "execution_count": 59,
   "id": "4c6d326b",
   "metadata": {},
   "outputs": [
    {
     "data": {
      "text/plain": [
       "(148, 39)"
      ]
     },
     "execution_count": 59,
     "metadata": {},
     "output_type": "execute_result"
    }
   ],
   "source": [
    "# json으로 챔피언 정보 불러오기\n",
    "response = requests.get('http://ddragon.leagueoflegends.com/cdn/10.6.1/data/ko_KR/champion.json')\n",
    "champ_list = list(response.json()['data'].keys())\n",
    "\n",
    "# 챔피언 정보 데이터프레임 생성\n",
    "champ_df = pd.DataFrame()\n",
    "for i in range(len(champ_list)):\n",
    "    pre_df = pd.json_normalize(response.json()['data'][champ_list[i]])\n",
    "    champ_df = champ_df.append(pre_df)\n",
    "champ_df.shape"
   ]
  },
  {
   "cell_type": "code",
   "execution_count": 60,
   "id": "2f34ecaa",
   "metadata": {},
   "outputs": [
    {
     "data": {
      "text/html": [
       "<div>\n",
       "<style scoped>\n",
       "    .dataframe tbody tr th:only-of-type {\n",
       "        vertical-align: middle;\n",
       "    }\n",
       "\n",
       "    .dataframe tbody tr th {\n",
       "        vertical-align: top;\n",
       "    }\n",
       "\n",
       "    .dataframe thead th {\n",
       "        text-align: right;\n",
       "    }\n",
       "</style>\n",
       "<table border=\"1\" class=\"dataframe\">\n",
       "  <thead>\n",
       "    <tr style=\"text-align: right;\">\n",
       "      <th></th>\n",
       "      <th>version</th>\n",
       "      <th>id</th>\n",
       "      <th>key</th>\n",
       "      <th>name</th>\n",
       "      <th>title</th>\n",
       "      <th>blurb</th>\n",
       "      <th>tags</th>\n",
       "      <th>partype</th>\n",
       "      <th>info.attack</th>\n",
       "      <th>info.defense</th>\n",
       "      <th>...</th>\n",
       "      <th>stats.hpregen</th>\n",
       "      <th>stats.hpregenperlevel</th>\n",
       "      <th>stats.mpregen</th>\n",
       "      <th>stats.mpregenperlevel</th>\n",
       "      <th>stats.crit</th>\n",
       "      <th>stats.critperlevel</th>\n",
       "      <th>stats.attackdamage</th>\n",
       "      <th>stats.attackdamageperlevel</th>\n",
       "      <th>stats.attackspeedperlevel</th>\n",
       "      <th>stats.attackspeed</th>\n",
       "    </tr>\n",
       "  </thead>\n",
       "  <tbody>\n",
       "    <tr>\n",
       "      <th>0</th>\n",
       "      <td>10.6.1</td>\n",
       "      <td>Aatrox</td>\n",
       "      <td>266</td>\n",
       "      <td>아트록스</td>\n",
       "      <td>다르킨의 검</td>\n",
       "      <td>한때는 공허에 맞서 싸웠던 슈리마의 명예로운 수호자 아트록스와 그의 종족은 결국 공...</td>\n",
       "      <td>[Fighter, Tank]</td>\n",
       "      <td>피의 샘</td>\n",
       "      <td>8</td>\n",
       "      <td>4</td>\n",
       "      <td>...</td>\n",
       "      <td>3.0</td>\n",
       "      <td>1.00</td>\n",
       "      <td>0.000</td>\n",
       "      <td>0.000</td>\n",
       "      <td>0</td>\n",
       "      <td>0</td>\n",
       "      <td>60.00</td>\n",
       "      <td>5.00</td>\n",
       "      <td>2.500</td>\n",
       "      <td>0.651</td>\n",
       "    </tr>\n",
       "    <tr>\n",
       "      <th>0</th>\n",
       "      <td>10.6.1</td>\n",
       "      <td>Ahri</td>\n",
       "      <td>103</td>\n",
       "      <td>아리</td>\n",
       "      <td>구미호</td>\n",
       "      <td>룬테라가 가진 잠재력과 선천적으로 연결된 아리는 마법을 순수한 에너지의 구체로 변환...</td>\n",
       "      <td>[Mage, Assassin]</td>\n",
       "      <td>마나</td>\n",
       "      <td>3</td>\n",
       "      <td>4</td>\n",
       "      <td>...</td>\n",
       "      <td>6.5</td>\n",
       "      <td>0.60</td>\n",
       "      <td>8.000</td>\n",
       "      <td>0.800</td>\n",
       "      <td>0</td>\n",
       "      <td>0</td>\n",
       "      <td>53.04</td>\n",
       "      <td>3.00</td>\n",
       "      <td>2.000</td>\n",
       "      <td>0.668</td>\n",
       "    </tr>\n",
       "    <tr>\n",
       "      <th>0</th>\n",
       "      <td>10.6.1</td>\n",
       "      <td>Akali</td>\n",
       "      <td>84</td>\n",
       "      <td>아칼리</td>\n",
       "      <td>섬기는 이 없는 암살자</td>\n",
       "      <td>킨코우 결사단과 그림자의 권이라는 지위를 버린 아칼리는 아이오니아인들에게 필요한 강...</td>\n",
       "      <td>[Assassin]</td>\n",
       "      <td>기력</td>\n",
       "      <td>5</td>\n",
       "      <td>3</td>\n",
       "      <td>...</td>\n",
       "      <td>8.0</td>\n",
       "      <td>0.50</td>\n",
       "      <td>50.000</td>\n",
       "      <td>0.000</td>\n",
       "      <td>0</td>\n",
       "      <td>0</td>\n",
       "      <td>62.40</td>\n",
       "      <td>3.30</td>\n",
       "      <td>3.200</td>\n",
       "      <td>0.625</td>\n",
       "    </tr>\n",
       "    <tr>\n",
       "      <th>0</th>\n",
       "      <td>10.6.1</td>\n",
       "      <td>Alistar</td>\n",
       "      <td>12</td>\n",
       "      <td>알리스타</td>\n",
       "      <td>미노타우로스</td>\n",
       "      <td>비할 데 없이 강력한 전사라는 평판이 자자한 알리스타는 녹서스 제국에게 부족 전체가...</td>\n",
       "      <td>[Tank, Support]</td>\n",
       "      <td>마나</td>\n",
       "      <td>6</td>\n",
       "      <td>9</td>\n",
       "      <td>...</td>\n",
       "      <td>8.5</td>\n",
       "      <td>0.85</td>\n",
       "      <td>8.500</td>\n",
       "      <td>0.800</td>\n",
       "      <td>0</td>\n",
       "      <td>0</td>\n",
       "      <td>62.00</td>\n",
       "      <td>3.75</td>\n",
       "      <td>2.125</td>\n",
       "      <td>0.625</td>\n",
       "    </tr>\n",
       "    <tr>\n",
       "      <th>0</th>\n",
       "      <td>10.6.1</td>\n",
       "      <td>Amumu</td>\n",
       "      <td>32</td>\n",
       "      <td>아무무</td>\n",
       "      <td>슬픈 미라</td>\n",
       "      <td>뼛속까지 사무치는 외로움과 쓸쓸함 속에 살아가는 아무무. 평생을 오로지 마음을 나눌...</td>\n",
       "      <td>[Tank, Mage]</td>\n",
       "      <td>마나</td>\n",
       "      <td>2</td>\n",
       "      <td>6</td>\n",
       "      <td>...</td>\n",
       "      <td>9.0</td>\n",
       "      <td>0.85</td>\n",
       "      <td>7.382</td>\n",
       "      <td>0.525</td>\n",
       "      <td>0</td>\n",
       "      <td>0</td>\n",
       "      <td>53.38</td>\n",
       "      <td>3.80</td>\n",
       "      <td>2.180</td>\n",
       "      <td>0.736</td>\n",
       "    </tr>\n",
       "  </tbody>\n",
       "</table>\n",
       "<p>5 rows × 39 columns</p>\n",
       "</div>"
      ],
      "text/plain": [
       "  version       id  key  name         title  \\\n",
       "0  10.6.1   Aatrox  266  아트록스        다르킨의 검   \n",
       "0  10.6.1     Ahri  103    아리           구미호   \n",
       "0  10.6.1    Akali   84   아칼리  섬기는 이 없는 암살자   \n",
       "0  10.6.1  Alistar   12  알리스타        미노타우로스   \n",
       "0  10.6.1    Amumu   32   아무무         슬픈 미라   \n",
       "\n",
       "                                               blurb              tags  \\\n",
       "0  한때는 공허에 맞서 싸웠던 슈리마의 명예로운 수호자 아트록스와 그의 종족은 결국 공...   [Fighter, Tank]   \n",
       "0  룬테라가 가진 잠재력과 선천적으로 연결된 아리는 마법을 순수한 에너지의 구체로 변환...  [Mage, Assassin]   \n",
       "0  킨코우 결사단과 그림자의 권이라는 지위를 버린 아칼리는 아이오니아인들에게 필요한 강...        [Assassin]   \n",
       "0  비할 데 없이 강력한 전사라는 평판이 자자한 알리스타는 녹서스 제국에게 부족 전체가...   [Tank, Support]   \n",
       "0  뼛속까지 사무치는 외로움과 쓸쓸함 속에 살아가는 아무무. 평생을 오로지 마음을 나눌...      [Tank, Mage]   \n",
       "\n",
       "  partype  info.attack  info.defense  ...  stats.hpregen  \\\n",
       "0    피의 샘            8             4  ...            3.0   \n",
       "0      마나            3             4  ...            6.5   \n",
       "0      기력            5             3  ...            8.0   \n",
       "0      마나            6             9  ...            8.5   \n",
       "0      마나            2             6  ...            9.0   \n",
       "\n",
       "   stats.hpregenperlevel stats.mpregen stats.mpregenperlevel stats.crit  \\\n",
       "0                   1.00         0.000                 0.000          0   \n",
       "0                   0.60         8.000                 0.800          0   \n",
       "0                   0.50        50.000                 0.000          0   \n",
       "0                   0.85         8.500                 0.800          0   \n",
       "0                   0.85         7.382                 0.525          0   \n",
       "\n",
       "   stats.critperlevel  stats.attackdamage  stats.attackdamageperlevel  \\\n",
       "0                   0               60.00                        5.00   \n",
       "0                   0               53.04                        3.00   \n",
       "0                   0               62.40                        3.30   \n",
       "0                   0               62.00                        3.75   \n",
       "0                   0               53.38                        3.80   \n",
       "\n",
       "   stats.attackspeedperlevel  stats.attackspeed  \n",
       "0                      2.500              0.651  \n",
       "0                      2.000              0.668  \n",
       "0                      3.200              0.625  \n",
       "0                      2.125              0.625  \n",
       "0                      2.180              0.736  \n",
       "\n",
       "[5 rows x 39 columns]"
      ]
     },
     "execution_count": 60,
     "metadata": {},
     "output_type": "execute_result"
    }
   ],
   "source": [
    "champ_df.head()"
   ]
  },
  {
   "cell_type": "code",
   "execution_count": 61,
   "id": "b60cb8dd",
   "metadata": {},
   "outputs": [
    {
     "data": {
      "text/plain": [
       "<AxesSubplot:xlabel='stats.hp', ylabel='stats.attackdamage'>"
      ]
     },
     "execution_count": 61,
     "metadata": {},
     "output_type": "execute_result"
    },
    {
     "data": {
      "image/png": "[encoded data removed]",
      "text/plain": [
       "<Figure size 432x288 with 1 Axes>"
      ]
     },
     "metadata": {},
     "output_type": "display_data"
    }
   ],
   "source": [
    "# 챔피언 타입별 hp 분포 분석\n",
    "\n",
    "plt.rcParams['font.family'] = 'Malgun Gothic' # 한글깨짐 방지\n",
    "sns.scatterplot(data=champ_df, x=\"stats.hp\" ,y=\"stats.attackdamage\", hue=\"stats.hp\")"
   ]
  },
  {
   "cell_type": "code",
   "execution_count": 62,
   "id": "3d8016f9",
   "metadata": {},
   "outputs": [
    {
     "data": {
      "text/plain": [
       "'dxw0ItebPX13iF9iQj--WdQrIQ-45jE2mCkdtsdiUwV6xA'"
      ]
     },
     "execution_count": 62,
     "metadata": {},
     "output_type": "execute_result"
    }
   ],
   "source": [
    "r.json()['id'] "
   ]
  },
  {
   "cell_type": "code",
   "execution_count": null,
   "id": "a88e734d",
   "metadata": {},
   "outputs": [],
   "source": [
    "mastery_url = https://kr.api.riotgames.com/lol/champion-mastery/v4/champion-masteries/by-summoner/\"+ r.json()['id'] + \"?api_key=\" + RGAPI-a1a815b6-8436-4d1f-b12f-67afccffc445"
   ]
  }
 ],
 "metadata": {
  "kernelspec": {
   "display_name": "Python 3 (ipykernel)",
   "language": "python",
   "name": "python3"
  },
  "language_info": {
   "codemirror_mode": {
    "name": "ipython",
    "version": 3
   },
   "file_extension": ".py",
   "mimetype": "text/x-python",
   "name": "python",
   "nbconvert_exporter": "python",
   "pygments_lexer": "ipython3",
   "version": "3.9.7"
  }
 },
 "nbformat": 4,
 "nbformat_minor": 5
}
